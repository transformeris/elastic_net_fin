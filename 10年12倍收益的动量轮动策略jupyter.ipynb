{
 "cells": [
  {
   "cell_type": "code",
   "execution_count": 2,
   "metadata": {
    "collapsed": true,
    "pycharm": {
     "name": "#%%\n"
    }
   },
   "outputs": [],
   "source": []
  },
  {
   "cell_type": "code",
   "execution_count": 3,
   "outputs": [
    {
     "name": "stdout",
     "output_type": "stream",
     "text": [
      "             cyb_etf  hs300_etf  ndaq_etf  gold_etf max_return_20_etf_name  \\\n",
      "date                                                                         \n",
      "2013-07-29  0.120638  -0.004214  0.051813       NaN                cyb_etf   \n",
      "2013-07-30  0.047170  -0.001796  0.046632       NaN                cyb_etf   \n",
      "2013-07-31  0.036011  -0.002982  0.046392       NaN               ndaq_etf   \n",
      "2013-08-01  0.070000   0.035287  0.041026       NaN                cyb_etf   \n",
      "2013-08-02  0.075437   0.023104  0.045918       NaN                cyb_etf   \n",
      "...              ...        ...       ...       ...                    ...   \n",
      "2023-10-09 -0.051170  -0.022141 -0.038596 -0.019804               gold_etf   \n",
      "2023-10-10 -0.054173  -0.034956 -0.024583 -0.031410               ndaq_etf   \n",
      "2023-10-11 -0.054669  -0.047194 -0.021016 -0.033511               ndaq_etf   \n",
      "2023-10-12 -0.043267  -0.031338 -0.011394 -0.026176               ndaq_etf   \n",
      "2023-10-13 -0.050756  -0.037857 -0.018373 -0.022198               ndaq_etf   \n",
      "\n",
      "            max_return_20_etf_number  \n",
      "date                                  \n",
      "2013-07-29                         0  \n",
      "2013-07-30                         0  \n",
      "2013-07-31                         2  \n",
      "2013-08-01                         0  \n",
      "2013-08-02                         0  \n",
      "...                              ...  \n",
      "2023-10-09                         3  \n",
      "2023-10-10                         2  \n",
      "2023-10-11                         2  \n",
      "2023-10-12                         2  \n",
      "2023-10-13                         2  \n",
      "\n",
      "[2482 rows x 6 columns]\n"
     ]
    }
   ],
   "source": [
    "import akshare as ak\n",
    "import pandas as pd\n",
    "\n",
    "\n",
    "def rename_columns(datas):\n",
    "    res= {}\n",
    "    for j,i in datas.items():\n",
    "\n",
    "        i.rename(columns={\n",
    "            '日期': 'date', '收盘': 'close', '开盘': 'open', '最高': 'high',\n",
    "            '最低': 'low', '成交量': 'volume', '成交额': 'amount',\n",
    "            '振幅': 'amplitude', '涨跌幅': 'pct_change'\n",
    "        }, inplace=True)\n",
    "        i.set_index(pd.to_datetime(i.loc[:, 'date']), inplace=True)\n",
    "        res[j]=i\n",
    "    return res\n",
    "\n",
    "\n",
    "\n",
    "if __name__=='__main__':\n",
    "\n",
    "    cyb_etf = ak.fund_etf_hist_em(symbol='159915', adjust='qfq')\n",
    "    hs300_etf= ak.fund_etf_hist_em(symbol='510300', adjust='qfq')\n",
    "    ndaq_etf= ak.fund_etf_hist_em(symbol='513100', adjust='qfq')\n",
    "    gold_etf= ak.fund_etf_hist_em(symbol='518880', adjust='qfq')\n",
    "\n",
    "    stock_collection={1:cyb_etf,2:hs300_etf,3:ndaq_etf,4:gold_etf}\n",
    "    stock_name={1:'cyb_etf',2:'hs300_etf',3:'ndaq_etf',4:'gold_etf'}\n",
    "    stock_list=list(stock_collection.values())\n",
    "    etfs=rename_columns(stock_collection)\n",
    "\n",
    "\n",
    "    # 假设cyb_etf、hs300_etf、ndaq_etf、gold_etf是四个pandas dataframe表格\n",
    "\n",
    "\n",
    "    # 计算二十日收益率\n",
    "    for etf in etfs.values():\n",
    "        etf['return_20'] = etf['close'].pct_change(periods=21)\n",
    "\n",
    "    # 合并四个表格\n",
    "    holding_df = pd.concat(etfs, axis=1, join='inner')\n",
    "    holding_df=holding_df.filter(regex='return_20')\n",
    "    holding_df.columns=stock_name.values()\n",
    "    etf_number=[0,1,2,3]\n",
    "    holding_df['max_return_20_etf_name']=holding_df.idxmax(axis=1)\n",
    "    holding_df['max_return_20_etf_number']=holding_df['max_return_20_etf_name'].replace(['cyb_etf','hs300_etf','ndaq_etf','gold_etf'],etf_number)\n",
    "print(holding_df)\n",
    "\n"
   ],
   "metadata": {
    "collapsed": false,
    "pycharm": {
     "name": "#%%\n"
    }
   }
  }
 ],
 "metadata": {
  "kernelspec": {
   "display_name": "Python 3",
   "language": "python",
   "name": "python3"
  },
  "language_info": {
   "codemirror_mode": {
    "name": "ipython",
    "version": 2
   },
   "file_extension": ".py",
   "mimetype": "text/x-python",
   "name": "python",
   "nbconvert_exporter": "python",
   "pygments_lexer": "ipython2",
   "version": "2.7.6"
  }
 },
 "nbformat": 4,
 "nbformat_minor": 0
}